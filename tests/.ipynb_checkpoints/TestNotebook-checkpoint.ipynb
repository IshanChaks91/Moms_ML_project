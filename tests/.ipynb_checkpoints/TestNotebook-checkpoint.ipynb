{
 "cells": [
  {
   "cell_type": "code",
   "execution_count": 1,
   "id": "a3188712",
   "metadata": {},
   "outputs": [
    {
     "name": "stdout",
     "output_type": "stream",
     "text": [
      "Name: ipykernel\n",
      "Version: 6.17.1\n",
      "Summary: IPython Kernel for Jupyter\n",
      "Home-page: \n",
      "Author: \n",
      "Author-email: IPython Development Team <ipython-dev@scipy.org>\n",
      "License: # Licensing terms\n",
      "        \n",
      "        This project is licensed under the terms of the Modified BSD License\n",
      "        (also known as New or Revised or 3-Clause BSD), as follows:\n",
      "        \n",
      "        - Copyright (c) 2015, IPython Development Team\n",
      "        \n",
      "        All rights reserved.\n",
      "        \n",
      "        Redistribution and use in source and binary forms, with or without\n",
      "        modification, are permitted provided that the following conditions are met:\n",
      "        \n",
      "        Redistributions of source code must retain the above copyright notice, this\n",
      "        list of conditions and the following disclaimer.\n",
      "        \n",
      "        Redistributions in binary form must reproduce the above copyright notice, this\n",
      "        list of conditions and the following disclaimer in the documentation and/or\n",
      "        other materials provided with the distribution.\n",
      "        \n",
      "        Neither the name of the IPython Development Team nor the names of its\n",
      "        contributors may be used to endorse or promote products derived from this\n",
      "        software without specific prior written permission.\n",
      "        \n",
      "        THIS SOFTWARE IS PROVIDED BY THE COPYRIGHT HOLDERS AND CONTRIBUTORS \"AS IS\" AND\n",
      "        ANY EXPRESS OR IMPLIED WARRANTIES, INCLUDING, BUT NOT LIMITED TO, THE IMPLIED\n",
      "        WARRANTIES OF MERCHANTABILITY AND FITNESS FOR A PARTICULAR PURPOSE ARE\n",
      "        DISCLAIMED. IN NO EVENT SHALL THE COPYRIGHT OWNER OR CONTRIBUTORS BE LIABLE\n",
      "        FOR ANY DIRECT, INDIRECT, INCIDENTAL, SPECIAL, EXEMPLARY, OR CONSEQUENTIAL\n",
      "        DAMAGES (INCLUDING, BUT NOT LIMITED TO, PROCUREMENT OF SUBSTITUTE GOODS OR\n",
      "        SERVICES; LOSS OF USE, DATA, OR PROFITS; OR BUSINESS INTERRUPTION) HOWEVER\n",
      "        CAUSED AND ON ANY THEORY OF LIABILITY, WHETHER IN CONTRACT, STRICT LIABILITY,\n",
      "        OR TORT (INCLUDING NEGLIGENCE OR OTHERWISE) ARISING IN ANY WAY OUT OF THE USE\n",
      "        OF THIS SOFTWARE, EVEN IF ADVISED OF THE POSSIBILITY OF SUCH DAMAGE.\n",
      "        \n",
      "        ## About the IPython Development Team\n",
      "        \n",
      "        The IPython Development Team is the set of all contributors to the IPython project.\n",
      "        This includes all of the IPython subprojects.\n",
      "        \n",
      "        The core team that coordinates development on GitHub can be found here:\n",
      "        https://github.com/ipython/.\n",
      "        \n",
      "        ## Our Copyright Policy\n",
      "        \n",
      "        IPython uses a shared copyright model. Each contributor maintains copyright\n",
      "        over their contributions to IPython. But, it is important to note that these\n",
      "        contributions are typically only changes to the repositories. Thus, the IPython\n",
      "        source code, in its entirety is not the copyright of any single person or\n",
      "        institution. Instead, it is the collective copyright of the entire IPython\n",
      "        Development Team. If individual contributors want to maintain a record of what\n",
      "        changes/contributions they have specific copyright on, they should indicate\n",
      "        their copyright in the commit message of the change, when they commit the\n",
      "        change to one of the IPython repositories.\n",
      "        \n",
      "        With this in mind, the following banner should be used in any source code file\n",
      "        to indicate the copyright and license terms:\n",
      "        \n",
      "        ```\n",
      "        # Copyright (c) IPython Development Team.\n",
      "        # Distributed under the terms of the Modified BSD License.\n",
      "        ```\n",
      "Location: /home/ic/anaconda3/envs/PythonTemplate/lib/python3.9/site-packages\n",
      "Requires: debugpy, ipython, jupyter-client, matplotlib-inline, nest-asyncio, packaging, psutil, pyzmq, tornado, traitlets\n",
      "Required-by: ipywidgets, jupyter, jupyter-console, nbclassic, notebook, qtconsole\n",
      "Note: you may need to restart the kernel to use updated packages.\n"
     ]
    }
   ],
   "source": [
    "pip show ipykernel"
   ]
  }
 ],
 "metadata": {
  "kernelspec": {
   "display_name": "Python 3 (ipykernel)",
   "language": "python",
   "name": "python3"
  },
  "language_info": {
   "codemirror_mode": {
    "name": "ipython",
    "version": 3
   },
   "file_extension": ".py",
   "mimetype": "text/x-python",
   "name": "python",
   "nbconvert_exporter": "python",
   "pygments_lexer": "ipython3",
   "version": "3.9.13"
  }
 },
 "nbformat": 4,
 "nbformat_minor": 5
}
